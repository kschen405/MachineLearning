{
 "cells": [
  {
   "cell_type": "code",
   "execution_count": 1,
   "metadata": {},
   "outputs": [],
   "source": [
    "import numpy as np\n",
    "import pandas as pd\n",
    "from sklearn.svm import SVC, SVR\n",
    "from sklearn.metrics import accuracy_score"
   ]
  },
  {
   "cell_type": "markdown",
   "metadata": {},
   "source": [
    "## Load data"
   ]
  },
  {
   "cell_type": "code",
   "execution_count": 2,
   "metadata": {},
   "outputs": [],
   "source": [
    "x_train = np.load(\"x_train.npy\")\n",
    "y_train = np.load(\"y_train.npy\")\n",
    "x_test = np.load(\"x_test.npy\")\n",
    "# y_test = np.load(\"y_test.npy\")"
   ]
  },
  {
   "cell_type": "code",
   "execution_count": 3,
   "metadata": {},
   "outputs": [
    {
     "name": "stdout",
     "output_type": "stream",
     "text": [
      "(7000, 300)\n"
     ]
    }
   ],
   "source": [
    "# 7000 data with 300 features\n",
    "print(x_train.shape)"
   ]
  },
  {
   "cell_type": "code",
   "execution_count": 4,
   "metadata": {},
   "outputs": [
    {
     "name": "stdout",
     "output_type": "stream",
     "text": [
      "[0 1]\n"
     ]
    }
   ],
   "source": [
    "# It's a binary classification problem \n",
    "print(np.unique(y_train))"
   ]
  },
  {
   "cell_type": "markdown",
   "metadata": {},
   "source": [
    "## Question 1\n",
    "K-fold data partition: Implement the K-fold cross-validation function. Your function should take K as an argument and return a list of lists (len(list) should equal to K), which contains K elements. Each element is a list contains two parts, the first part contains the index of all training folds, e.g. Fold 2 to Fold 5 in split 1. The second part contains the index of validation fold, e.g. Fold 1 in  split 1"
   ]
  },
  {
   "cell_type": "code",
   "execution_count": 5,
   "metadata": {},
   "outputs": [],
   "source": [
    "def cross_validation(x_train, y_train, k=5):\n",
    "    index_shuffle = np.arange(x_train.shape[0])\n",
    "    np.random.shuffle(index_shuffle)\n",
    "\n",
    "    num_add_one = x_train.shape[0] % k\n",
    "    fold_size = x_train.shape[0] // k\n",
    "    print(\"fold_size = \", fold_size)\n",
    "    kfold_data = []\n",
    "    for i in range(k):\n",
    "        if i < num_add_one:\n",
    "            begin = i * (fold_size + 1)\n",
    "            end = (i+1) * (fold_size + 1)\n",
    "        else:\n",
    "            begin = i * fold_size + num_add_one\n",
    "            end = (i+1) * fold_size + num_add_one\n",
    "\n",
    "        kfold_train = np.concatenate([index_shuffle[: begin], index_shuffle[end :]])\n",
    "        kfold_val = index_shuffle[begin: end]\n",
    "        kfold_data.append([kfold_train, kfold_val])\n",
    "    return kfold_data"
   ]
  },
  {
   "cell_type": "code",
   "execution_count": 6,
   "metadata": {},
   "outputs": [
    {
     "name": "stdout",
     "output_type": "stream",
     "text": [
      "fold_size =  700\n"
     ]
    }
   ],
   "source": [
    "kfold_data = cross_validation(x_train, y_train, k=10)\n",
    "assert len(kfold_data) == 10 # should contain 10 fold of data\n",
    "assert len(kfold_data[0]) == 2 # each element should contain train fold and validation fold\n",
    "assert kfold_data[0][1].shape[0] == 700 # The number of data in each validation fold should equal to training data divieded by K"
   ]
  },
  {
   "cell_type": "markdown",
   "metadata": {},
   "source": [
    "## example"
   ]
  },
  {
   "cell_type": "code",
   "execution_count": 7,
   "metadata": {},
   "outputs": [
    {
     "name": "stdout",
     "output_type": "stream",
     "text": [
      "Split: 1, Training index: [ 0  1  2  3  4  5  6  7  9 12 13 15 16 17 18 19], Validation index: [ 8 10 11 14]\n",
      "Split: 2, Training index: [ 0  1  2  3  5  6  7  8 10 11 12 13 14 15 16 18], Validation index: [ 4  9 17 19]\n",
      "Split: 3, Training index: [ 2  4  5  7  8  9 10 11 12 13 14 15 16 17 18 19], Validation index: [0 1 3 6]\n",
      "Split: 4, Training index: [ 0  1  2  3  4  6  8  9 10 11 12 13 14 15 17 19], Validation index: [ 5  7 16 18]\n",
      "Split: 5, Training index: [ 0  1  3  4  5  6  7  8  9 10 11 14 16 17 18 19], Validation index: [ 2 12 13 15]\n"
     ]
    }
   ],
   "source": [
    "from sklearn.model_selection import KFold\n",
    "\n",
    "X = np.arange(20)\n",
    "kf = KFold(n_splits=5, shuffle=True)\n",
    "kfold_data= []\n",
    "for i, (train_index, val_index) in enumerate(kf.split(X)):\n",
    "    print(\"Split: %s, Training index: %s, Validation index: %s\" % (i+1, train_index, val_index))\n",
    "    kfold_data.append([train_index, val_index])"
   ]
  },
  {
   "cell_type": "code",
   "execution_count": 8,
   "metadata": {},
   "outputs": [],
   "source": [
    "assert len(kfold_data) == 5 # should contain 5 fold of data\n",
    "assert len(kfold_data[0]) == 2 # each element should contains index of training fold and validation fold\n",
    "assert kfold_data[0][1].shape[0] == 4 # The number of data in each validation fold should equal to training data divieded by K"
   ]
  },
  {
   "cell_type": "markdown",
   "metadata": {},
   "source": [
    "## Question 2\n",
    "Using sklearn.svm.SVC to train a classifier on the provided train set and conduct the grid search of “C” and “gamma” to find the best parameters by cross-validation."
   ]
  },
  {
   "cell_type": "code",
   "execution_count": 9,
   "metadata": {},
   "outputs": [
    {
     "name": "stdout",
     "output_type": "stream",
     "text": [
      "fold_size =  1400\n"
     ]
    }
   ],
   "source": [
    "kfold_data = cross_validation(x_train, y_train, k=5)\n",
    "assert len(kfold_data) == 5\n",
    "assert len(kfold_data[0]) == 2\n",
    "assert kfold_data[0][1].shape[0] == 1400"
   ]
  },
  {
   "cell_type": "code",
   "execution_count": 10,
   "metadata": {},
   "outputs": [
    {
     "name": "stdout",
     "output_type": "stream",
     "text": [
      "[1.e-02 1.e-01 1.e+00 1.e+01 1.e+02 1.e+03 1.e+04]\n",
      "[1.e-08 1.e-07 1.e-06 1.e-05 1.e-04 1.e-03 1.e-02]\n"
     ]
    }
   ],
   "source": [
    "C = np.logspace(-2, 4, 7,endpoint=True, base=10)\n",
    "print(C)\n",
    "gammas = np.logspace(-8, -2, 7, base=10)\n",
    "print(gammas)"
   ]
  },
  {
   "cell_type": "code",
   "execution_count": 11,
   "metadata": {},
   "outputs": [
    {
     "name": "stdout",
     "output_type": "stream",
     "text": [
      "C = 0.01, gamma = 1e-08: accuracy = 0.4885714285714286\n",
      "C = 0.01, gamma = 1e-07: accuracy = 0.4885714285714286\n",
      "C = 0.01, gamma = 1e-06: accuracy = 0.4885714285714286\n",
      "C = 0.01, gamma = 1e-05: accuracy = 0.4885714285714286\n",
      "C = 0.01, gamma = 0.0001: accuracy = 0.4885714285714286\n",
      "C = 0.01, gamma = 0.001: accuracy = 0.4885714285714286\n",
      "C = 0.01, gamma = 0.01: accuracy = 0.4885714285714286\n",
      "C = 0.1, gamma = 1e-08: accuracy = 0.4885714285714286\n",
      "C = 0.1, gamma = 1e-07: accuracy = 0.4885714285714286\n",
      "C = 0.1, gamma = 1e-06: accuracy = 0.4885714285714286\n",
      "C = 0.1, gamma = 1e-05: accuracy = 0.915\n",
      "C = 0.1, gamma = 0.0001: accuracy = 0.9729999999999999\n",
      "C = 0.1, gamma = 0.001: accuracy = 0.4885714285714286\n",
      "C = 0.1, gamma = 0.01: accuracy = 0.4885714285714286\n",
      "C = 1.0, gamma = 1e-08: accuracy = 0.4885714285714286\n",
      "C = 1.0, gamma = 1e-07: accuracy = 0.4885714285714286\n",
      "C = 1.0, gamma = 1e-06: accuracy = 0.9085714285714286\n",
      "C = 1.0, gamma = 1e-05: accuracy = 0.953\n",
      "C = 1.0, gamma = 0.0001: accuracy = 0.9932857142857143\n",
      "C = 1.0, gamma = 0.001: accuracy = 0.4885714285714286\n",
      "C = 1.0, gamma = 0.01: accuracy = 0.4885714285714286\n",
      "C = 10.0, gamma = 1e-08: accuracy = 0.4885714285714286\n",
      "C = 10.0, gamma = 1e-07: accuracy = 0.9074285714285715\n",
      "C = 10.0, gamma = 1e-06: accuracy = 0.9345714285714287\n",
      "C = 10.0, gamma = 1e-05: accuracy = 0.984\n",
      "C = 10.0, gamma = 0.0001: accuracy = 0.9932857142857143\n",
      "C = 10.0, gamma = 0.001: accuracy = 0.4885714285714286\n",
      "C = 10.0, gamma = 0.01: accuracy = 0.4885714285714286\n",
      "C = 100.0, gamma = 1e-08: accuracy = 0.9074285714285715\n",
      "C = 100.0, gamma = 1e-07: accuracy = 0.9325714285714286\n",
      "C = 100.0, gamma = 1e-06: accuracy = 0.9471428571428572\n",
      "C = 100.0, gamma = 1e-05: accuracy = 0.9912857142857143\n",
      "C = 100.0, gamma = 0.0001: accuracy = 0.9932857142857143\n",
      "C = 100.0, gamma = 0.001: accuracy = 0.4885714285714286\n",
      "C = 100.0, gamma = 0.01: accuracy = 0.4885714285714286\n",
      "C = 1000.0, gamma = 1e-08: accuracy = 0.9324285714285715\n",
      "C = 1000.0, gamma = 1e-07: accuracy = 0.9401428571428572\n",
      "C = 1000.0, gamma = 1e-06: accuracy = 0.9748571428571429\n",
      "C = 1000.0, gamma = 1e-05: accuracy = 0.9914285714285714\n",
      "C = 1000.0, gamma = 0.0001: accuracy = 0.9932857142857143\n",
      "C = 1000.0, gamma = 0.001: accuracy = 0.4885714285714286\n",
      "C = 1000.0, gamma = 0.01: accuracy = 0.4885714285714286\n",
      "C = 10000.0, gamma = 1e-08: accuracy = 0.9400000000000001\n",
      "C = 10000.0, gamma = 1e-07: accuracy = 0.9382857142857143\n",
      "C = 10000.0, gamma = 1e-06: accuracy = 0.987857142857143\n",
      "C = 10000.0, gamma = 1e-05: accuracy = 0.9914285714285714\n",
      "C = 10000.0, gamma = 0.0001: accuracy = 0.9932857142857143\n",
      "C = 10000.0, gamma = 0.001: accuracy = 0.4885714285714286\n",
      "C = 10000.0, gamma = 0.01: accuracy = 0.4885714285714286\n"
     ]
    }
   ],
   "source": [
    "best_parameters = [None, None]\n",
    "best_accuracy = -1\n",
    "total_accuracy = []\n",
    "for c in C:\n",
    "    gamma_accuracy = []\n",
    "    for gamma in gammas:\n",
    "        avg_accuracy = 0\n",
    "        for index_train, index_valid in kfold_data:\n",
    "            x_sample = x_train[index_train]\n",
    "            y_sample = y_train[index_train]\n",
    "            x_val_sample = x_train[index_valid]\n",
    "            y_val_sample = y_train[index_valid]\n",
    "            clf = SVC(C=c, kernel='rbf', gamma=gamma)\n",
    "            clf.fit(x_sample, y_sample)\n",
    "            y_pred = clf.predict(x_val_sample)\n",
    "            accuracy = accuracy_score(y_pred, y_val_sample)\n",
    "            avg_accuracy += accuracy\n",
    "        avg_accuracy /= len(kfold_data)\n",
    "        if avg_accuracy > best_accuracy:\n",
    "            best_parameters = [c, gamma]\n",
    "            best_accuracy = avg_accuracy\n",
    "        print(f\"C = {c}, gamma = {gamma}: accuracy = {avg_accuracy}\")\n",
    "        gamma_accuracy.append(avg_accuracy)\n",
    "    total_accuracy.append(gamma_accuracy)"
   ]
  },
  {
   "cell_type": "code",
   "execution_count": 12,
   "metadata": {},
   "outputs": [
    {
     "name": "stdout",
     "output_type": "stream",
     "text": [
      "0.9932857142857143\n"
     ]
    }
   ],
   "source": [
    "print(best_accuracy)"
   ]
  },
  {
   "cell_type": "code",
   "execution_count": 17,
   "metadata": {},
   "outputs": [
    {
     "name": "stdout",
     "output_type": "stream",
     "text": [
      "best_parameters C = 1.0, gamma = 0.0001\n"
     ]
    }
   ],
   "source": [
    "print(f\"best_parameters C = {best_parameters[0]}, gamma = {best_parameters[1]}\")\n"
   ]
  },
  {
   "cell_type": "markdown",
   "metadata": {},
   "source": [
    "## Question 3\n",
    "Plot the grid search results of your SVM. The x, y represents the hyperparameters of “gamma” and “C”, respectively. And the color represents the average score of validation folds\n",
    "You reults should be look like this reference image below ![image](https://miro.medium.com/max/1296/1*wGWTup9r4cVytB5MOnsjdQ.png) "
   ]
  },
  {
   "cell_type": "code",
   "execution_count": 14,
   "metadata": {},
   "outputs": [
    {
     "data": {
      "image/png": "[encoded data removed]",
      "text/plain": [
       "<Figure size 640x480 with 2 Axes>"
      ]
     },
     "metadata": {},
     "output_type": "display_data"
    }
   ],
   "source": [
    "from matplotlib import pyplot as plt\n",
    "total_accuracy = np.array(total_accuracy)\n",
    "\n",
    "fig, ax = plt.subplots()\n",
    "im = ax.imshow(total_accuracy)\n",
    "ax.set_xticks(np.arange(len(gammas)), labels=gammas)\n",
    "ax.set_yticks(np.arange(len(C)), labels=C)\n",
    "ax.set_xlabel(\"Gamma Parameter\")\n",
    "ax.set_ylabel(\"C Parameter\",rotation=90)\n",
    "cbar = ax.figure.colorbar(im, ax=ax) #, **cbar_kw)\n",
    "for i in range(len(C)):\n",
    "    for j in range(len(gammas)):\n",
    "        text = ax.text(j, i, round(total_accuracy[i, j], 2), ha=\"center\", va=\"center\", color=\"w\")\n",
    "ax.set_title(\"Hyperparameter Gridsearch\")\n",
    "fig.tight_layout()\n",
    "plt.show()"
   ]
  },
  {
   "cell_type": "markdown",
   "metadata": {},
   "source": [
    "## Question 4\n",
    "Train your SVM model by the best parameters you found from question 2 on the whole training set and evaluate the performance on the test set."
   ]
  },
  {
   "cell_type": "code",
   "execution_count": 22,
   "metadata": {},
   "outputs": [],
   "source": [
    "best_model = SVC(C=best_parameters[0], kernel='rbf', gamma=best_parameters[1])\n",
    "best_model.fit(x_train, y_train)\n",
    "y_pred = best_model.predict(x_test)\n"
   ]
  },
  {
   "cell_type": "code",
   "execution_count": 23,
   "metadata": {},
   "outputs": [
    {
     "ename": "NameError",
     "evalue": "name 'y_test' is not defined",
     "output_type": "error",
     "traceback": [
      "\u001b[1;31m---------------------------------------------------------------------------\u001b[0m",
      "\u001b[1;31mNameError\u001b[0m                                 Traceback (most recent call last)",
      "Cell \u001b[1;32mIn [23], line 1\u001b[0m\n\u001b[1;32m----> 1\u001b[0m \u001b[39mprint\u001b[39m(\u001b[39m\"\u001b[39m\u001b[39mAccuracy score: \u001b[39m\u001b[39m\"\u001b[39m, accuracy_score(y_pred, y_test))\n",
      "\u001b[1;31mNameError\u001b[0m: name 'y_test' is not defined"
     ]
    }
   ],
   "source": [
    "print(\"Accuracy score: \", accuracy_score(y_pred, y_test))"
   ]
  },
  {
   "cell_type": "code",
   "execution_count": null,
   "metadata": {},
   "outputs": [],
   "source": []
  }
 ],
 "metadata": {
  "kernelspec": {
   "display_name": "Python 3.10.5 64-bit",
   "language": "python",
   "name": "python3"
  },
  "language_info": {
   "codemirror_mode": {
    "name": "ipython",
    "version": 3
   },
   "file_extension": ".py",
   "mimetype": "text/x-python",
   "name": "python",
   "nbconvert_exporter": "python",
   "pygments_lexer": "ipython3",
   "version": "3.10.5"
  },
  "vscode": {
   "interpreter": {
    "hash": "2cefb6477faab595c65c4416ff83d6c7b73571d0f54d603d29c372c95ba24cd5"
   }
  }
 },
 "nbformat": 4,
 "nbformat_minor": 4
}
