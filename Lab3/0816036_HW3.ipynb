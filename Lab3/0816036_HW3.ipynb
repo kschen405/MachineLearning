{
 "cells": [
  {
   "cell_type": "markdown",
   "metadata": {},
   "source": [
    "## HW3: Decision Tree, AdaBoost and Random Forest\n",
    "In hw3, you need to implement decision tree, adaboost and random forest by using only numpy, then train your implemented model by the provided dataset. TA will use the on-hold test label to evaluate your model performance.\n",
    "\n",
    "Please note that only **NUMPY** can be used to implement your model, you will get no points by simply calling `sklearn.tree.DecisionTreeClassifier`"
   ]
  },
  {
   "cell_type": "markdown",
   "metadata": {},
   "source": [
    "## Question 1\n",
    "Gini Index or Entropy is often used for measuring the “best” splitting of the data. Please compute the Entropy and Gini Index of provided data. Please use the formula from [page 5 of hw3 slides](https://docs.google.com/presentation/d/1kIe_-YZdemRMmr_3xDy-l0OS2EcLgDH7Uan14tlU5KE/edit#slide=id.gd542a5ff75_0_15)"
   ]
  },
  {
   "cell_type": "code",
   "execution_count": 1,
   "metadata": {},
   "outputs": [],
   "source": [
    "import numpy as np\n",
    "from collections import Counter\n",
    "\n",
    "def gini(sequence):\n",
    "    sequence = sequence.astype(dtype='int64')\n",
    "    counts = np.bincount(sequence)\n",
    "    probs = counts / sequence.size\n",
    "    gini = 1\n",
    "    for p in probs:\n",
    "        if p > 0:\n",
    "            gini -= p * p\n",
    "    return gini\n",
    "\n",
    "def compute_gini_gain(parent, left, right):\n",
    "    ratio_left = len(left) / len(parent)\n",
    "    ratio_right = 1 - ratio_left\n",
    "    return gini(parent) - ratio_left * gini(left) - ratio_right * gini(right)\n",
    "\n",
    "def entropy(sequence):\n",
    "    sequence = sequence.astype(dtype='int64')\n",
    "    counts = np.bincount(sequence)\n",
    "    probs = counts / sequence.size\n",
    "    entropy = 0\n",
    "    for p in probs:\n",
    "        if p > 0:\n",
    "            entropy -= p * np.log2(p)\n",
    "    return entropy\n",
    "\n",
    "def compute_info_gain(parent, left, right):\n",
    "    ratio_left = len(left) / len(parent)\n",
    "    ratio_right = 1 - ratio_left\n",
    "    return entropy(parent) - ratio_left * entropy(left) - ratio_right * entropy(right)"
   ]
  },
  {
   "cell_type": "code",
   "execution_count": 2,
   "metadata": {},
   "outputs": [],
   "source": [
    "# 1 = class 1,\n",
    "# 2 = class 2\n",
    "data = np.array([1,2,1,1,1,1,2,2,1,1,2])"
   ]
  },
  {
   "cell_type": "code",
   "execution_count": 3,
   "metadata": {},
   "outputs": [
    {
     "name": "stdout",
     "output_type": "stream",
     "text": [
      "Gini of data is  0.4628099173553719\n"
     ]
    }
   ],
   "source": [
    "print(\"Gini of data is \", gini(data))"
   ]
  },
  {
   "cell_type": "code",
   "execution_count": 4,
   "metadata": {},
   "outputs": [
    {
     "name": "stdout",
     "output_type": "stream",
     "text": [
      "Entropy of data is  0.9456603046006401\n"
     ]
    }
   ],
   "source": [
    "print(\"Entropy of data is \", entropy(data))"
   ]
  },
  {
   "cell_type": "markdown",
   "metadata": {},
   "source": [
    "## Load data\n",
    "It is a binary classifiation dataset that classify if price is high or not for a cell phone, the label is stored in `price_range` column."
   ]
  },
  {
   "cell_type": "code",
   "execution_count": 5,
   "metadata": {},
   "outputs": [
    {
     "name": "stdout",
     "output_type": "stream",
     "text": [
      "(1200, 21)\n",
      "(300, 21)\n",
      "(1500, 21)\n"
     ]
    }
   ],
   "source": [
    "import pandas as pd\n",
    "\n",
    "train_df = pd.read_csv('train.csv')\n",
    "val_df = pd.read_csv('val.csv')\n",
    "x_test_df = pd.read_csv('x_test.csv')\n",
    "print(train_df.shape)\n",
    "print(val_df.shape)\n",
    "trainval_df  = pd.concat([train_df, val_df])\n",
    "print(trainval_df.shape)"
   ]
  },
  {
   "cell_type": "code",
   "execution_count": 6,
   "metadata": {},
   "outputs": [
    {
     "name": "stdout",
     "output_type": "stream",
     "text": [
      "<class 'pandas.core.frame.DataFrame'>\n",
      "[[1 0 0 ... 0 1 0]]\n"
     ]
    }
   ],
   "source": [
    "x_train_data = train_df.drop(\"price_range\", axis=1)\n",
    "y_train_data = train_df[\"price_range\"]\n",
    "\n",
    "x_val_data = val_df.drop(\"price_range\", axis=1).to_numpy()\n",
    "y_val_data = val_df[\"price_range\"].to_numpy(dtype='int64')\n",
    "\n",
    "x_test_data = x_test_df.to_numpy()\n",
    "\n",
    "print(type(x_train_data))\n",
    "print(np.array(y_train_data).reshape(1, -1))"
   ]
  },
  {
   "cell_type": "code",
   "execution_count": 7,
   "metadata": {},
   "outputs": [
    {
     "name": "stdout",
     "output_type": "stream",
     "text": [
      "{0: 'battery_power', 1: 'blue', 2: 'clock_speed', 3: 'dual_sim', 4: 'fc', 5: 'four_g', 6: 'int_memory', 7: 'm_dep', 8: 'mobile_wt', 9: 'n_cores', 10: 'pc', 11: 'px_height', 12: 'px_width', 13: 'ram', 14: 'sc_h', 15: 'sc_w', 16: 'talk_time', 17: 'three_g', 18: 'touch_screen', 19: 'wifi'}\n"
     ]
    }
   ],
   "source": [
    "category = ['blue', 'dual_sim', 'four_g', 'three_g', 'touch_screen', 'wifi']\n",
    "headers = x_train_data.columns.tolist()\n",
    "column_names = {}\n",
    "feature_cnt = [0 for i in range(len(headers))]\n",
    "\n",
    "for i, header in enumerate(headers):\n",
    "    column_names[i] = header\n",
    "    \n",
    "\n",
    "print(column_names)\n"
   ]
  },
  {
   "cell_type": "markdown",
   "metadata": {},
   "source": [
    "## Question 2\n",
    "Implement the Decision Tree algorithm (CART, Classification and Regression Trees) and trained the model by the given arguments, and print the accuracy score on the validation data. You should implement two arguments for the Decision Tree algorithm\n",
    "1. **criterion**: The function to measure the quality of a split. Your model should support `gini` for the Gini impurity and `entropy` for the information gain. \n",
    "2. **max_depth**: The maximum depth of the tree. If `max_depth=None`, then nodes are expanded until all leaves are pure. `max_depth=1` equals to split data once\n"
   ]
  },
  {
   "cell_type": "code",
   "execution_count": 8,
   "metadata": {},
   "outputs": [],
   "source": [
    "x_train_data = x_train_data.to_numpy()\n",
    "y_train_data = y_train_data.to_numpy(dtype='int64')"
   ]
  },
  {
   "cell_type": "code",
   "execution_count": 9,
   "metadata": {},
   "outputs": [],
   "source": [
    "class Node():\n",
    "    def __init__(self, feature=None, threshold=None, data_left=None, data_right=None, gini=None, info_gain=None, leaf_pred=None):\n",
    "        self.feature = feature\n",
    "        self.threshold = threshold\n",
    "        self.data_left = data_left\n",
    "        self.data_right = data_right\n",
    "        self.gini = gini\n",
    "        self.info_gain = info_gain\n",
    "        self.leaf_pred = leaf_pred\n",
    "    "
   ]
  },
  {
   "cell_type": "code",
   "execution_count": 10,
   "metadata": {},
   "outputs": [],
   "source": [
    "class DecisionTree:\n",
    "\n",
    "    def __init__(self, criterion='gini', max_depth=None, max_features=None):\n",
    "        self.criterion = criterion\n",
    "        self.max_depth = max_depth\n",
    "        if max_features is not None:\n",
    "            max_features = int(round(max_features))\n",
    "        self.max_features = max_features\n",
    "        self.root = None\n",
    "\n",
    "    def _best_split(self, x_data, y_data):\n",
    "        best_split = {}\n",
    "        best_info_gain = -1\n",
    "        best_gini_gain = -1\n",
    "        # Random choose m features to be the best feature candidates\n",
    "        if self.max_features is not None and self.max_features < x_data.shape[1]:\n",
    "            selected_features = np.random.choice(a=x_data.shape[1], size=self.max_features, replace=False)\n",
    "        else:\n",
    "            selected_features = [i for i in range(x_data.shape[1])]\n",
    "        # for feature in range(len(column_names)):\n",
    "        for feature in selected_features:\n",
    "            feature_values = x_data[:, feature]\n",
    "            for threshold in np.unique(feature_values):\n",
    "\n",
    "                df = np.concatenate((x_data, y_data.reshape(1, -1).T), axis=1)\n",
    "\n",
    "                # category\n",
    "                if column_names[feature] in category:\n",
    "                    df_left = np.array([row for row in df if row[feature] == threshold])\n",
    "                    df_right = np.array([row for row in df if row[feature] != threshold])\n",
    "                # numerical\n",
    "                else:\n",
    "                    df_left = np.array([row for row in df if row[feature] <= threshold])\n",
    "                    df_right = np.array([row for row in df if row[feature] > threshold])\n",
    "\n",
    "                if len(df_left) > 0 and len(df_right) > 0:\n",
    "                    y_data = df[:, -1]\n",
    "                    y_left = df_left[:, -1]\n",
    "                    y_right = df_right[:, -1]\n",
    "\n",
    "                    if self.criterion == 'entropy':\n",
    "                        info_gain = compute_info_gain(y_data, y_left, y_right)\n",
    "                        if info_gain > best_info_gain:\n",
    "                            best_split = {\n",
    "                                'feature_index': feature,\n",
    "                                'threshold': threshold,\n",
    "                                'df_left': df_left,\n",
    "                                'df_right': df_right,\n",
    "                                'gain': info_gain\n",
    "                            }\n",
    "                            best_info_gain = info_gain\n",
    "                            \n",
    "                    elif self.criterion == 'gini':\n",
    "                        gini_gain = compute_gini_gain(y_data, y_left, y_right)\n",
    "                        if gini_gain > best_gini_gain:\n",
    "                            best_split = {\n",
    "                                'feature_index': feature,\n",
    "                                'threshold': threshold,\n",
    "                                'df_left': df_left,\n",
    "                                'df_right': df_right,\n",
    "                                'gini': gini_gain\n",
    "                            }\n",
    "                            best_gini_gain = gini_gain\n",
    "        # Count feature importance\n",
    "        if best_split != {}:\n",
    "            feature_cnt[best_split['feature_index']] += 1\n",
    "\n",
    "        return best_split\n",
    "    \n",
    "    def _build(self, x_data, y_data, cur_depth=0):\n",
    "        # if self.criterion == 'gini' and entropy(y_data) == 0:\n",
    "        #     print(\"gini, entropy = 0\")\n",
    "\n",
    "        # if self.criterion == 'entropy' and entropy(y_data) == 0:\n",
    "        n_rows, n_cols = x_data.shape\n",
    "        if (self.max_depth is None or cur_depth < self.max_depth) and entropy(y_data) != 0 and n_rows >= 2:\n",
    "            best = self._best_split(x_data, y_data)\n",
    "            if best == {}:\n",
    "                return Node(leaf_pred=Counter(y_data).most_common(1)[0][0])\n",
    "            left = self._build(\n",
    "                x_data=best['df_left'][:, :-1], \n",
    "                y_data=best['df_left'][:, -1], \n",
    "                cur_depth=cur_depth + 1\n",
    "            )\n",
    "            right = self._build(\n",
    "                x_data=best['df_right'][:, :-1], \n",
    "                y_data=best['df_right'][:, -1], \n",
    "                cur_depth=cur_depth + 1\n",
    "            )\n",
    "            if self.criterion == 'entropy':\n",
    "                return Node(\n",
    "                    feature=best['feature_index'], \n",
    "                    threshold=best['threshold'], \n",
    "                    data_left=left, \n",
    "                    data_right=right, \n",
    "                    info_gain=best['gain']\n",
    "                )\n",
    "            else:\n",
    "                return Node(\n",
    "                    feature=best['feature_index'], \n",
    "                    threshold=best['threshold'], \n",
    "                    data_left=left, \n",
    "                    data_right=right, \n",
    "                    gini=best['gini']\n",
    "                )\n",
    "\n",
    "        return Node(\n",
    "            leaf_pred=Counter(y_data).most_common(1)[0][0]\n",
    "        )\n",
    "    \n",
    "    def fit(self, x_data, y_data):\n",
    "        # print(\"x_data.shape = \", x_data.shape)\n",
    "        self.root = self._build(x_data, y_data) # root is a root Node of a tree\n",
    "        \n",
    "    def _predict(self, x, tree):\n",
    "        # Leaf node\n",
    "        if tree.leaf_pred != None:\n",
    "            return tree.leaf_pred\n",
    "        # print(\"x.shape = \", x.shape)\n",
    "        # print(\"tree.feature = \", tree.feature)\n",
    "        feature_value = x[tree.feature]\n",
    "        \n",
    "        # Go to the left\n",
    "        if column_names[tree.feature] in category:\n",
    "            if feature_value == tree.threshold:\n",
    "                return self._predict(x=x, tree=tree.data_left)\n",
    "            else:\n",
    "                return self._predict(x=x, tree=tree.data_right)\n",
    "        else:\n",
    "            if feature_value <= tree.threshold:\n",
    "                return self._predict(x=x, tree=tree.data_left)\n",
    "            \n",
    "            # Go to the right\n",
    "            if feature_value > tree.threshold:\n",
    "                return self._predict(x=x, tree=tree.data_right)\n",
    "        \n",
    "    def predict(self, x_data):\n",
    "        y_pred_data = np.array([self._predict(x, self.root) for x in x_data])\n",
    "        \n",
    "        return y_pred_data"
   ]
  },
  {
   "cell_type": "markdown",
   "metadata": {},
   "source": [
    "### Question 2.1\n",
    "Using `criterion=gini`, showing the accuracy score of validation data by `max_depth=3` and `max_depth=10`, respectively.\n"
   ]
  },
  {
   "cell_type": "code",
   "execution_count": 11,
   "metadata": {},
   "outputs": [
    {
     "name": "stdout",
     "output_type": "stream",
     "text": [
      "Accuracy =  0.9166666666666666\n",
      "Accuracy =  0.9366666666666666\n"
     ]
    }
   ],
   "source": [
    "clf_depth3 = DecisionTree(criterion='gini', max_depth=3)\n",
    "clf_depth3.fit(x_train_data, y_train_data)\n",
    "y_pred_data= clf_depth3.predict(x_val_data)\n",
    "accuracy = (y_val_data == y_pred_data).sum() / len(y_val_data)\n",
    "print(\"Accuracy = \", accuracy)\n",
    "\n",
    "feature_cnt = [0 for i in range(len(headers))]\n",
    "clf_depth10 = DecisionTree(criterion='gini', max_depth=10)\n",
    "clf_depth10.fit(x_train_data, y_train_data)\n",
    "y_pred_data= clf_depth10.predict(x_val_data)\n",
    "accuracy = (y_val_data == y_pred_data).sum() / len(y_val_data)\n",
    "print(\"Accuracy = \", accuracy)\n",
    "saved_feature_cnt = feature_cnt"
   ]
  },
  {
   "cell_type": "markdown",
   "metadata": {},
   "source": [
    "### Question 2.2\n",
    "Using `max_depth=3`, showing the accuracy score of validation data by `criterion=gini` and `criterion=entropy`, respectively.\n"
   ]
  },
  {
   "cell_type": "code",
   "execution_count": 12,
   "metadata": {},
   "outputs": [
    {
     "name": "stdout",
     "output_type": "stream",
     "text": [
      "Accuracy gini =  0.9166666666666666\n",
      "Accuracy entropy =  0.93\n"
     ]
    }
   ],
   "source": [
    "clf_gini = DecisionTree(criterion='gini', max_depth=3)\n",
    "clf_gini.fit(x_train_data, y_train_data)\n",
    "y_pred_data= clf_gini.predict(x_val_data)\n",
    "accuracy = (y_val_data == y_pred_data).sum() / len(y_val_data)\n",
    "print(\"Accuracy gini = \", accuracy)\n",
    "\n",
    "clf_entropy = DecisionTree(criterion='entropy', max_depth=3)\n",
    "clf_entropy.fit(x_train_data, y_train_data)\n",
    "y_pred_data= clf_entropy.predict(x_val_data)\n",
    "accuracy = (y_val_data == y_pred_data).sum() / len(y_val_data)\n",
    "print(\"Accuracy entropy = \", accuracy)"
   ]
  },
  {
   "cell_type": "markdown",
   "metadata": {},
   "source": [
    "- Note: Your decisition tree scores should over **0.9**. It may suffer from overfitting, if so, you can tune the hyperparameter such as `max_depth`\n",
    "- Note: You should get the same results when re-building the model with the same arguments,  no need to prune the trees\n",
    "- Hint: You can use the recursive method to build the nodes\n"
   ]
  },
  {
   "cell_type": "markdown",
   "metadata": {},
   "source": [
    "## Question 3\n",
    "Plot the [feature importance](https://sefiks.com/2020/04/06/feature-importance-in-decision-trees/) of your Decision Tree model. You can get the feature importance by counting the feature used for splitting data.\n",
    "\n",
    "- You can simply plot the **counts of feature used** for building tree without normalize the importance. Take the figure below as example, outlook feature has been used for splitting for almost 50 times. Therefore, it has the largest importance\n",
    "\n",
    "![image](https://i2.wp.com/sefiks.com/wp-content/uploads/2020/04/c45-fi-results.jpg?w=481&ssl=1)"
   ]
  },
  {
   "cell_type": "code",
   "execution_count": 13,
   "metadata": {},
   "outputs": [
    {
     "name": "stdout",
     "output_type": "stream",
     "text": [
      "[23, 1, 0, 0, 2, 0, 0, 2, 1, 0, 0, 11, 5, 15, 0, 0, 1, 0, 0, 0]\n"
     ]
    },
    {
     "data": {
      "image/png": "[encoded data removed]",
      "text/plain": [
       "<Figure size 640x480 with 1 Axes>"
      ]
     },
     "metadata": {},
     "output_type": "display_data"
    }
   ],
   "source": [
    "import matplotlib.pyplot as plt\n",
    "plt.title(\"Feature Importance\")\n",
    "plt.barh(headers, saved_feature_cnt)\n",
    "print(saved_feature_cnt)"
   ]
  },
  {
   "cell_type": "markdown",
   "metadata": {},
   "source": [
    "## Question 4\n",
    "implement the AdaBooest algorithm by using the CART you just implemented from question 2 as base learner. You should implement one arguments for the AdaBooest.\n",
    "1. **n_estimators**: The maximum number of estimators at which boosting is terminated"
   ]
  },
  {
   "cell_type": "code",
   "execution_count": 14,
   "metadata": {},
   "outputs": [],
   "source": [
    "class AdaBoost():\n",
    "    def __init__(self, n_estimators):\n",
    "        self.n_estimators = n_estimators\n",
    "        self.trees = []\n",
    "        \n",
    "    def fit(self, x_data, y_data):\n",
    "        num_data = x_data.shape[0]\n",
    "        # initialize weight\n",
    "        w = np.repeat(1/num_data, num_data)\n",
    "        # initialize weighted data\n",
    "        x_weighted_data, y_weighted_data = x_data, y_data\n",
    "        # Start T iterations\n",
    "        for i in range(self.n_estimators):\n",
    "            # Generate tree as weak learner\n",
    "            tree = DecisionTree(criterion='gini', max_depth=1)\n",
    "            tree.fit(x_weighted_data, y_weighted_data)\n",
    "            y_pred_data = tree.predict(x_data)  #####################################\n",
    "            # Compute error, alpha as the weight of the weak learner\n",
    "            error = w[y_pred_data != y_data].sum()\n",
    "            alpha = 1/2 * np.log((1-error+1e-10) / (error+1e-10))\n",
    "            # Compute normalized weight of each sample\n",
    "            w = w * np.exp(-alpha * y_pred_data * y_data)\n",
    "            w /= np.sum(w)\n",
    "            # Select samples base on base on normalized weights\n",
    "            choices = np.random.choice(len(x_weighted_data), len(x_weighted_data), p=w, replace=True)\n",
    "            x_weighted_data = x_weighted_data[choices]\n",
    "            y_weighted_data = y_weighted_data[choices]\n",
    "            self.trees.append(tree)\n",
    "            \n",
    "    def predict(self, x_data):\n",
    "        y_preds = []\n",
    "        for tree in self.trees:\n",
    "            y_preds.append(tree.predict(x_data))\n",
    "        y_preds_swap = np.swapaxes(y_preds, axis1=0, axis2=1)\n",
    "        y_pred_data = []\n",
    "        for y_trees in y_preds_swap:\n",
    "            y_pred_data.append(Counter(y_trees).most_common(1)[0][0])\n",
    "\n",
    "        y_pred_data = np.array(y_pred_data)\n",
    "        # accuracy = (y_val_data == y_pred_data).sum() / len(y_val_data)\n",
    "        return y_pred_data"
   ]
  },
  {
   "cell_type": "markdown",
   "metadata": {},
   "source": [
    "### Question 4.1\n",
    "Show the accuracy score of validation data by `n_estimators=10` and `n_estimators=100`, respectively.\n"
   ]
  },
  {
   "cell_type": "code",
   "execution_count": 15,
   "metadata": {},
   "outputs": [
    {
     "name": "stdout",
     "output_type": "stream",
     "text": [
      "Accuracy 10 =  0.8433333333333334\n",
      "Accuracy 100 =  0.4866666666666667\n"
     ]
    }
   ],
   "source": [
    "adabooster10 = AdaBoost(n_estimators=10)\n",
    "adabooster10.fit(x_train_data, y_train_data)\n",
    "y_pred_data = adabooster10.predict(x_val_data)\n",
    "accuracy = (y_val_data == y_pred_data).sum() / len(y_val_data)\n",
    "print(\"Accuracy 10 = \", accuracy)\n",
    "\n",
    "adabooster100 = AdaBoost(n_estimators=100)\n",
    "adabooster100.fit(x_train_data, y_train_data)\n",
    "y_pred_data = adabooster100.predict(x_val_data)\n",
    "accuracy100 = (y_val_data == y_pred_data).sum() / len(y_val_data)\n",
    "print(\"Accuracy 100 = \", accuracy100)"
   ]
  },
  {
   "cell_type": "markdown",
   "metadata": {},
   "source": [
    "## Question 5\n",
    "implement the Random Forest algorithm by using the CART you just implemented from question 2. You should implement three arguments for the Random Forest.\n",
    "\n",
    "1. **n_estimators**: The number of trees in the forest. \n",
    "2. **max_features**: The number of random select features to consider when looking for the best split\n",
    "3. **bootstrap**: Whether bootstrap samples are used when building tree\n"
   ]
  },
  {
   "cell_type": "code",
   "execution_count": 16,
   "metadata": {},
   "outputs": [],
   "source": [
    "class RandomForest():\n",
    "    def __init__(self, n_estimators, max_features, boostrap=True, criterion='gini', max_depth=None):\n",
    "        self.n_estimators = n_estimators\n",
    "        if max_features is not None:\n",
    "            max_features = int(round(max_features))\n",
    "        self.max_features = max_features\n",
    "        self.boostrap = boostrap\n",
    "        self.criterion = criterion\n",
    "        self.max_depth = max_depth\n",
    "        self.trees = []\n",
    "\n",
    "\n",
    "    def random_sample(self, x_data, y_data):\n",
    "        num_row, _ = x_data.shape\n",
    "        choices = np.random.choice(a=num_row, size=num_row, replace=True)\n",
    "        x_data = x_data[choices]\n",
    "        y_data = y_data[choices]\n",
    "\n",
    "        return x_data, y_data\n",
    "\n",
    "    def fit(self, x_data, y_data):\n",
    "        \n",
    "        for i in range(self.n_estimators):\n",
    "            if self.boostrap:\n",
    "                x_bs_data, y_bs_data = self.random_sample(x_data, y_data)\n",
    "            tree = DecisionTree(criterion=self.criterion, max_depth=self.max_depth, max_features=self.max_features)\n",
    "            tree.fit(x_bs_data, y_bs_data)\n",
    "            self.trees.append(tree)\n",
    "            \n",
    "\n",
    "\n",
    "    def predict(self, x_data):\n",
    "            y_preds = [ tree.predict(x_data) for tree in self.trees ]\n",
    "            y_preds_swap = np.swapaxes(a=y_preds, axis1=0, axis2=1)\n",
    "            y_pred_data = []\n",
    "            for y_trees in y_preds_swap:\n",
    "                y_pred_data.append(Counter(y_trees).most_common(1)[0][0])\n",
    "\n",
    "            y_pred_data = np.array(y_pred_data)\n",
    "            return y_pred_data"
   ]
  },
  {
   "cell_type": "markdown",
   "metadata": {},
   "source": [
    "### Question 5.1\n",
    "Using `criterion=gini`, `max_depth=None`, `max_features=sqrt(n_features)`, showing the accuracy score of validation data by `n_estimators=10` and `n_estimators=100`, respectively.\n"
   ]
  },
  {
   "cell_type": "code",
   "execution_count": 17,
   "metadata": {},
   "outputs": [
    {
     "name": "stdout",
     "output_type": "stream",
     "text": [
      "Accuracy 10 =  0.9366666666666666\n",
      "Accuracy 100 =  0.9433333333333334\n"
     ]
    }
   ],
   "source": [
    "clf_10tree = RandomForest(n_estimators=10, max_features=np.sqrt(x_train_data.shape[1]))\n",
    "clf_10tree.fit(x_train_data, y_train_data)\n",
    "y_pred_data = clf_10tree.predict(x_val_data)\n",
    "accuracy = (y_val_data == y_pred_data).sum() / len(y_val_data)\n",
    "print(\"Accuracy 10 = \", accuracy)\n",
    "\n",
    "clf_100tree = RandomForest(n_estimators=100, max_features=np.sqrt(x_train_data.shape[1]))\n",
    "clf_100tree.fit(x_train_data, y_train_data)\n",
    "y_pred_data = clf_100tree.predict(x_val_data)\n",
    "accuracy = (y_val_data == y_pred_data).sum() / len(y_val_data)\n",
    "print(\"Accuracy 100 = \", accuracy)\n",
    "\n"
   ]
  },
  {
   "cell_type": "markdown",
   "metadata": {},
   "source": [
    "### Question 5.2\n",
    "Using `criterion=gini`, `max_depth=None`, `n_estimators=10`, showing the accuracy score of validation data by `max_features=sqrt(n_features)` and `max_features=n_features`, respectively.\n"
   ]
  },
  {
   "cell_type": "code",
   "execution_count": 18,
   "metadata": {},
   "outputs": [
    {
     "name": "stdout",
     "output_type": "stream",
     "text": [
      "Accuracy random =  0.93\n",
      "Accuracy all =  0.96\n"
     ]
    }
   ],
   "source": [
    "clf_random_features = RandomForest(n_estimators=10, max_features=np.sqrt(x_train_data.shape[1]))\n",
    "clf_random_features.fit(x_train_data, y_train_data)\n",
    "y_pred_data = clf_random_features.predict(x_val_data)\n",
    "accuracy = (y_val_data == y_pred_data).sum() / len(y_val_data)\n",
    "print(\"Accuracy random = \", accuracy)\n",
    "\n",
    "clf_all_features = RandomForest(n_estimators=10, max_features=x_train_data.shape[1])\n",
    "clf_all_features.fit(x_train_data, y_train_data)\n",
    "y_pred_data = clf_all_features.predict(x_val_data)\n",
    "accuracy = (y_val_data == y_pred_data).sum() / len(y_val_data)\n",
    "print(\"Accuracy all = \", accuracy)\n",
    "\n",
    "# from sklearn.metrics import accuracy_score\n",
    "# accuracy = accuracy_score(y_val_data, y_pred_data)\n"
   ]
  },
  {
   "cell_type": "markdown",
   "metadata": {},
   "source": [
    "- Note: Use majority votes to get the final prediction, you may get slightly different results when re-building the random forest model"
   ]
  },
  {
   "cell_type": "markdown",
   "metadata": {},
   "source": [
    "### Question 6. Train and tune your model on a real-world dataset\n",
    "Try you best to get higher accuracy score of your model. After parameter tuning, you can train your model on the full dataset (train + val).\n",
    "- Feature engineering\n",
    "- Hyperparameter tuning\n",
    "- Implement any other ensemble methods, such as gradient boosting. Please note that you **can not** call any package. Also, only ensemble method can be used. Neural network method is not allowed to used."
   ]
  },
  {
   "cell_type": "markdown",
   "metadata": {},
   "source": [
    "把train model的輸入改好，重新截圖報告要的內容，繳交檔案"
   ]
  },
  {
   "cell_type": "code",
   "execution_count": 19,
   "metadata": {},
   "outputs": [],
   "source": [
    "class Ensemble():\n",
    "    def __init__(self, n_estimators, max_features, boostrap=True, criterion='gini', max_depth=None, feature_engineering=False):\n",
    "        self.n_estimators = n_estimators\n",
    "        if max_features is not None:\n",
    "            max_features = int(round(max_features))\n",
    "        self.max_features = max_features\n",
    "        self.boostrap = boostrap\n",
    "        self.criterion = criterion\n",
    "        self.max_depth = max_depth\n",
    "        self.feature_engineering = feature_engineering\n",
    "        self.trees = []\n",
    "\n",
    "\n",
    "    def random_sample(self, x_data, y_data):\n",
    "        num_row, _ = x_data.shape\n",
    "        choices = np.random.choice(a=num_row, size=num_row, replace=True)\n",
    "        x_data = x_data[choices]\n",
    "        y_data = y_data[choices]\n",
    "\n",
    "        return x_data, y_data\n",
    "\n",
    "    def fit(self, x_data, y_data):\n",
    "        \n",
    "        for i in range(self.n_estimators):\n",
    "            if self.boostrap:\n",
    "                x_bs_data, y_bs_data = self.random_sample(x_data, y_data)\n",
    "            tree = DecisionTree(criterion=self.criterion, max_depth=self.max_depth, max_features=self.max_features)\n",
    "            tree.fit(x_bs_data, y_bs_data)\n",
    "            self.trees.append(tree)\n",
    "            \n",
    "\n",
    "\n",
    "    def predict(self, x_data):\n",
    "        if self.feature_engineering:\n",
    "            width_times_height = np.expand_dims(x_data[:,11] * x_data[:,12], axis=1)\n",
    "            battery_times_RAM = np.expand_dims(x_data[:,0] * x_data[:,13], axis=1)\n",
    "            x_data = np.concatenate((x_data, width_times_height, battery_times_RAM), axis=1)\n",
    "        \n",
    "        y_preds = [ tree.predict(x_data) for tree in self.trees ]\n",
    "        y_preds_swap = np.swapaxes(a=y_preds, axis1=0, axis2=1)\n",
    "        y_pred_data = []\n",
    "        for y_trees in y_preds_swap:\n",
    "            y_pred_data.append(Counter(y_trees).most_common(1)[0][0])\n",
    "\n",
    "        y_pred_data = np.array(y_pred_data)\n",
    "        return y_pred_data"
   ]
  },
  {
   "cell_type": "code",
   "execution_count": 28,
   "metadata": {},
   "outputs": [],
   "source": [
    "\n",
    "def train_your_model(trainval_df): # WRONG\n",
    "    x_train_data = trainval_df.drop(\"price_range\", axis=1).to_numpy()\n",
    "    y_train_data = trainval_df[\"price_range\"].to_numpy()\n",
    "    \n",
    "    \n",
    "    my_model = Ensemble(n_estimators=150, criterion='gini', max_depth=None, max_features=x_train_data.shape[1], feature_engineering=True) #np.sqrt(x_train_new.shape[1])) # x_train_new.shape[1] + \n",
    "    my_model.fit(x_train_data, y_train_data)\n",
    "    \n",
    "    return my_model"
   ]
  },
  {
   "cell_type": "code",
   "execution_count": 29,
   "metadata": {},
   "outputs": [],
   "source": [
    "my_model = train_your_model(trainval_df)\n"
   ]
  },
  {
   "cell_type": "code",
   "execution_count": 30,
   "metadata": {},
   "outputs": [
    {
     "name": "stdout",
     "output_type": "stream",
     "text": [
      "Accuracy random =  1.0\n"
     ]
    }
   ],
   "source": [
    "y_pred_data = my_model.predict(x_train_data)\n",
    "accuracy = (y_train_data == y_pred_data).sum() / len(y_train_data)\n",
    "print(\"Accuracy random = \", accuracy)"
   ]
  },
  {
   "cell_type": "code",
   "execution_count": 41,
   "metadata": {},
   "outputs": [],
   "source": [
    "import pickle\n",
    "my_model7 = pickle.load(open(\"model.pkl\", \"rb\"))"
   ]
  },
  {
   "cell_type": "code",
   "execution_count": 42,
   "metadata": {},
   "outputs": [
    {
     "name": "stdout",
     "output_type": "stream",
     "text": [
      "Accuracy random =  1.0\n"
     ]
    }
   ],
   "source": [
    "y_pred_data = my_model7.predict(x_val_data)\n",
    "accuracy = (y_val_data == y_pred_data).sum() / len(y_val_data)\n",
    "print(\"Accuracy random = \", accuracy)"
   ]
  },
  {
   "cell_type": "code",
   "execution_count": 35,
   "metadata": {},
   "outputs": [],
   "source": [
    "y_pred = my_model.predict(x_test_data)"
   ]
  },
  {
   "cell_type": "code",
   "execution_count": 36,
   "metadata": {},
   "outputs": [],
   "source": [
    "import pickle\n",
    "pickle.dump(my_model, open('model.pkl', 'wb'))\n",
    "np.save(\"y_pred.npy\", y_pred)"
   ]
  },
  {
   "cell_type": "code",
   "execution_count": 37,
   "metadata": {},
   "outputs": [
    {
     "name": "stdout",
     "output_type": "stream",
     "text": [
      "[0. 0. 1. 1. 1. 1. 1. 0. 1. 1. 1. 1. 1. 1. 1. 0. 0. 1. 0. 0. 0. 1. 1. 0.\n",
      " 1. 0. 1. 0. 0. 1. 1. 0. 0. 0. 1. 1. 0. 0. 0. 0. 1. 1. 0. 1. 0. 0. 1. 1.\n",
      " 0. 1. 1. 0. 0. 1. 1. 1. 1. 1. 1. 1. 0. 0. 0. 1. 1. 1. 0. 1. 1. 1. 0. 1.\n",
      " 1. 1. 1. 0. 0. 1. 0. 1. 0. 0. 1. 1. 1. 0. 0. 0. 1. 0. 1. 0. 1. 1. 1. 1.\n",
      " 1. 1. 1. 0. 0. 1. 0. 0. 1. 1. 0. 0. 1. 0. 0. 1. 1. 1. 1. 1. 0. 0. 1. 0.\n",
      " 1. 1. 0. 1. 0. 0. 0. 1. 0. 0. 0. 0. 0. 0. 0. 0. 0. 0. 1. 0. 1. 0. 0. 0.\n",
      " 0. 1. 1. 0. 0. 1. 0. 0. 1. 0. 0. 0. 1. 1. 1. 1. 0. 0. 0. 0. 1. 1. 0. 0.\n",
      " 0. 0. 1. 1. 1. 1. 1. 0. 1. 1. 1. 1. 1. 0. 0. 0. 0. 0. 1. 0. 1. 1. 0. 1.\n",
      " 1. 1. 1. 0. 0. 0. 0. 0. 0. 0. 0. 1. 0. 1. 1. 0. 0. 1. 0. 0. 1. 1. 0. 0.\n",
      " 1. 0. 0. 0. 1. 1. 1. 1. 1. 0. 0. 1. 0. 1. 1. 0. 1. 0. 0. 1. 0. 1. 1. 0.\n",
      " 0. 0. 0. 0. 1. 0. 0. 0. 1. 1. 0. 1. 1. 1. 1. 0. 1. 1. 1. 0. 1. 1. 1. 1.\n",
      " 1. 0. 1. 1. 1. 1. 1. 0. 0. 1. 1. 1. 0. 0. 1. 0. 1. 1. 1. 0. 0. 1. 0. 0.\n",
      " 0. 0. 1. 1. 1. 1. 1. 1. 1. 0. 0. 1. 1. 1. 0. 1. 0. 0. 1. 0. 0. 0. 1. 0.\n",
      " 1. 0. 1. 0. 0. 0. 0. 1. 1. 1. 1. 1. 1. 0. 0. 0. 1. 1. 1. 0. 0. 1. 1. 0.\n",
      " 1. 1. 1. 1. 0. 0. 1. 1. 0. 1. 0. 0. 0. 0. 1. 0. 1. 1. 0. 1. 1. 0. 1. 0.\n",
      " 0. 0. 1. 0. 0. 0. 0. 0. 0. 1. 0. 1. 0. 0. 0. 1. 1. 1. 1. 1. 1. 1. 0. 1.\n",
      " 0. 0. 0. 0. 0. 0. 0. 0. 0. 0. 0. 1. 1. 1. 0. 0. 0. 1. 0. 0. 0. 1. 0. 1.\n",
      " 0. 1. 0. 0. 1. 1. 1. 1. 1. 1. 1. 0. 1. 1. 0. 0. 1. 0. 0. 1. 0. 0. 0. 1.\n",
      " 1. 1. 0. 1. 0. 1. 0. 1. 1. 1. 1. 0. 1. 0. 0. 1. 1. 1. 1. 1. 1. 1. 0. 1.\n",
      " 0. 0. 0. 1. 0. 1. 1. 1. 0. 0. 0. 1. 1. 1. 1. 1. 1. 0. 1. 0. 0. 1. 1. 0.\n",
      " 1. 0. 1. 1. 0. 0. 1. 0. 0. 0. 0. 1. 1. 0. 1. 1. 1. 0. 0. 1.]\n"
     ]
    }
   ],
   "source": [
    "loaded = np.load(\"y_pred.npy\")\n",
    "print(loaded)"
   ]
  },
  {
   "cell_type": "code",
   "execution_count": null,
   "metadata": {},
   "outputs": [],
   "source": []
  },
  {
   "cell_type": "code",
   "execution_count": 34,
   "metadata": {},
   "outputs": [],
   "source": [
    "assert y_pred.shape == (500, )"
   ]
  },
  {
   "cell_type": "markdown",
   "metadata": {},
   "source": [
    "## Supplementary\n",
    "If you have trouble to implement this homework, TA strongly recommend watching [this video](https://www.youtube.com/watch?v=LDRbO9a6XPU), which explains Decision Tree model clearly. But don't copy code from any resources, try to finish this homework by yourself! "
   ]
  },
  {
   "cell_type": "markdown",
   "metadata": {},
   "source": [
    "### DO NOT MODIFY CODE BELOW"
   ]
  },
  {
   "cell_type": "code",
   "execution_count": 27,
   "metadata": {},
   "outputs": [
    {
     "ename": "FileNotFoundError",
     "evalue": "[Errno 2] No such file or directory: 'y_test.csv'",
     "output_type": "error",
     "traceback": [
      "\u001b[1;31m---------------------------------------------------------------------------\u001b[0m",
      "\u001b[1;31mFileNotFoundError\u001b[0m                         Traceback (most recent call last)",
      "Cell \u001b[1;32mIn [27], line 3\u001b[0m\n\u001b[0;32m      1\u001b[0m \u001b[39mimport\u001b[39;00m \u001b[39mpandas\u001b[39;00m \u001b[39mas\u001b[39;00m \u001b[39mpd\u001b[39;00m\n\u001b[0;32m      2\u001b[0m \u001b[39mfrom\u001b[39;00m \u001b[39msklearn\u001b[39;00m\u001b[39m.\u001b[39;00m\u001b[39mmetrics\u001b[39;00m \u001b[39mimport\u001b[39;00m accuracy_score\n\u001b[1;32m----> 3\u001b[0m y_test \u001b[39m=\u001b[39m pd\u001b[39m.\u001b[39;49mread_csv(\u001b[39m'\u001b[39;49m\u001b[39my_test.csv\u001b[39;49m\u001b[39m'\u001b[39;49m)[\u001b[39m'\u001b[39m\u001b[39mprice_range\u001b[39m\u001b[39m'\u001b[39m]\u001b[39m.\u001b[39mvalues\n\u001b[0;32m      5\u001b[0m \u001b[39mprint\u001b[39m(\u001b[39m'\u001b[39m\u001b[39mTest-set accuarcy score: \u001b[39m\u001b[39m'\u001b[39m, accuracy_score(y_test, y_pred))\n",
      "File \u001b[1;32mc:\\Users\\Terry\\AppData\\Local\\Programs\\Python\\Python310\\lib\\site-packages\\pandas\\util\\_decorators.py:311\u001b[0m, in \u001b[0;36mdeprecate_nonkeyword_arguments.<locals>.decorate.<locals>.wrapper\u001b[1;34m(*args, **kwargs)\u001b[0m\n\u001b[0;32m    305\u001b[0m \u001b[39mif\u001b[39;00m \u001b[39mlen\u001b[39m(args) \u001b[39m>\u001b[39m num_allow_args:\n\u001b[0;32m    306\u001b[0m     warnings\u001b[39m.\u001b[39mwarn(\n\u001b[0;32m    307\u001b[0m         msg\u001b[39m.\u001b[39mformat(arguments\u001b[39m=\u001b[39marguments),\n\u001b[0;32m    308\u001b[0m         \u001b[39mFutureWarning\u001b[39;00m,\n\u001b[0;32m    309\u001b[0m         stacklevel\u001b[39m=\u001b[39mstacklevel,\n\u001b[0;32m    310\u001b[0m     )\n\u001b[1;32m--> 311\u001b[0m \u001b[39mreturn\u001b[39;00m func(\u001b[39m*\u001b[39margs, \u001b[39m*\u001b[39m\u001b[39m*\u001b[39mkwargs)\n",
      "File \u001b[1;32mc:\\Users\\Terry\\AppData\\Local\\Programs\\Python\\Python310\\lib\\site-packages\\pandas\\io\\parsers\\readers.py:680\u001b[0m, in \u001b[0;36mread_csv\u001b[1;34m(filepath_or_buffer, sep, delimiter, header, names, index_col, usecols, squeeze, prefix, mangle_dupe_cols, dtype, engine, converters, true_values, false_values, skipinitialspace, skiprows, skipfooter, nrows, na_values, keep_default_na, na_filter, verbose, skip_blank_lines, parse_dates, infer_datetime_format, keep_date_col, date_parser, dayfirst, cache_dates, iterator, chunksize, compression, thousands, decimal, lineterminator, quotechar, quoting, doublequote, escapechar, comment, encoding, encoding_errors, dialect, error_bad_lines, warn_bad_lines, on_bad_lines, delim_whitespace, low_memory, memory_map, float_precision, storage_options)\u001b[0m\n\u001b[0;32m    665\u001b[0m kwds_defaults \u001b[39m=\u001b[39m _refine_defaults_read(\n\u001b[0;32m    666\u001b[0m     dialect,\n\u001b[0;32m    667\u001b[0m     delimiter,\n\u001b[1;32m   (...)\u001b[0m\n\u001b[0;32m    676\u001b[0m     defaults\u001b[39m=\u001b[39m{\u001b[39m\"\u001b[39m\u001b[39mdelimiter\u001b[39m\u001b[39m\"\u001b[39m: \u001b[39m\"\u001b[39m\u001b[39m,\u001b[39m\u001b[39m\"\u001b[39m},\n\u001b[0;32m    677\u001b[0m )\n\u001b[0;32m    678\u001b[0m kwds\u001b[39m.\u001b[39mupdate(kwds_defaults)\n\u001b[1;32m--> 680\u001b[0m \u001b[39mreturn\u001b[39;00m _read(filepath_or_buffer, kwds)\n",
      "File \u001b[1;32mc:\\Users\\Terry\\AppData\\Local\\Programs\\Python\\Python310\\lib\\site-packages\\pandas\\io\\parsers\\readers.py:575\u001b[0m, in \u001b[0;36m_read\u001b[1;34m(filepath_or_buffer, kwds)\u001b[0m\n\u001b[0;32m    572\u001b[0m _validate_names(kwds\u001b[39m.\u001b[39mget(\u001b[39m\"\u001b[39m\u001b[39mnames\u001b[39m\u001b[39m\"\u001b[39m, \u001b[39mNone\u001b[39;00m))\n\u001b[0;32m    574\u001b[0m \u001b[39m# Create the parser.\u001b[39;00m\n\u001b[1;32m--> 575\u001b[0m parser \u001b[39m=\u001b[39m TextFileReader(filepath_or_buffer, \u001b[39m*\u001b[39m\u001b[39m*\u001b[39mkwds)\n\u001b[0;32m    577\u001b[0m \u001b[39mif\u001b[39;00m chunksize \u001b[39mor\u001b[39;00m iterator:\n\u001b[0;32m    578\u001b[0m     \u001b[39mreturn\u001b[39;00m parser\n",
      "File \u001b[1;32mc:\\Users\\Terry\\AppData\\Local\\Programs\\Python\\Python310\\lib\\site-packages\\pandas\\io\\parsers\\readers.py:934\u001b[0m, in \u001b[0;36mTextFileReader.__init__\u001b[1;34m(self, f, engine, **kwds)\u001b[0m\n\u001b[0;32m    931\u001b[0m     \u001b[39mself\u001b[39m\u001b[39m.\u001b[39moptions[\u001b[39m\"\u001b[39m\u001b[39mhas_index_names\u001b[39m\u001b[39m\"\u001b[39m] \u001b[39m=\u001b[39m kwds[\u001b[39m\"\u001b[39m\u001b[39mhas_index_names\u001b[39m\u001b[39m\"\u001b[39m]\n\u001b[0;32m    933\u001b[0m \u001b[39mself\u001b[39m\u001b[39m.\u001b[39mhandles: IOHandles \u001b[39m|\u001b[39m \u001b[39mNone\u001b[39;00m \u001b[39m=\u001b[39m \u001b[39mNone\u001b[39;00m\n\u001b[1;32m--> 934\u001b[0m \u001b[39mself\u001b[39m\u001b[39m.\u001b[39m_engine \u001b[39m=\u001b[39m \u001b[39mself\u001b[39;49m\u001b[39m.\u001b[39;49m_make_engine(f, \u001b[39mself\u001b[39;49m\u001b[39m.\u001b[39;49mengine)\n",
      "File \u001b[1;32mc:\\Users\\Terry\\AppData\\Local\\Programs\\Python\\Python310\\lib\\site-packages\\pandas\\io\\parsers\\readers.py:1218\u001b[0m, in \u001b[0;36mTextFileReader._make_engine\u001b[1;34m(self, f, engine)\u001b[0m\n\u001b[0;32m   1214\u001b[0m     mode \u001b[39m=\u001b[39m \u001b[39m\"\u001b[39m\u001b[39mrb\u001b[39m\u001b[39m\"\u001b[39m\n\u001b[0;32m   1215\u001b[0m \u001b[39m# error: No overload variant of \"get_handle\" matches argument types\u001b[39;00m\n\u001b[0;32m   1216\u001b[0m \u001b[39m# \"Union[str, PathLike[str], ReadCsvBuffer[bytes], ReadCsvBuffer[str]]\"\u001b[39;00m\n\u001b[0;32m   1217\u001b[0m \u001b[39m# , \"str\", \"bool\", \"Any\", \"Any\", \"Any\", \"Any\", \"Any\"\u001b[39;00m\n\u001b[1;32m-> 1218\u001b[0m \u001b[39mself\u001b[39m\u001b[39m.\u001b[39mhandles \u001b[39m=\u001b[39m get_handle(  \u001b[39m# type: ignore[call-overload]\u001b[39;49;00m\n\u001b[0;32m   1219\u001b[0m     f,\n\u001b[0;32m   1220\u001b[0m     mode,\n\u001b[0;32m   1221\u001b[0m     encoding\u001b[39m=\u001b[39;49m\u001b[39mself\u001b[39;49m\u001b[39m.\u001b[39;49moptions\u001b[39m.\u001b[39;49mget(\u001b[39m\"\u001b[39;49m\u001b[39mencoding\u001b[39;49m\u001b[39m\"\u001b[39;49m, \u001b[39mNone\u001b[39;49;00m),\n\u001b[0;32m   1222\u001b[0m     compression\u001b[39m=\u001b[39;49m\u001b[39mself\u001b[39;49m\u001b[39m.\u001b[39;49moptions\u001b[39m.\u001b[39;49mget(\u001b[39m\"\u001b[39;49m\u001b[39mcompression\u001b[39;49m\u001b[39m\"\u001b[39;49m, \u001b[39mNone\u001b[39;49;00m),\n\u001b[0;32m   1223\u001b[0m     memory_map\u001b[39m=\u001b[39;49m\u001b[39mself\u001b[39;49m\u001b[39m.\u001b[39;49moptions\u001b[39m.\u001b[39;49mget(\u001b[39m\"\u001b[39;49m\u001b[39mmemory_map\u001b[39;49m\u001b[39m\"\u001b[39;49m, \u001b[39mFalse\u001b[39;49;00m),\n\u001b[0;32m   1224\u001b[0m     is_text\u001b[39m=\u001b[39;49mis_text,\n\u001b[0;32m   1225\u001b[0m     errors\u001b[39m=\u001b[39;49m\u001b[39mself\u001b[39;49m\u001b[39m.\u001b[39;49moptions\u001b[39m.\u001b[39;49mget(\u001b[39m\"\u001b[39;49m\u001b[39mencoding_errors\u001b[39;49m\u001b[39m\"\u001b[39;49m, \u001b[39m\"\u001b[39;49m\u001b[39mstrict\u001b[39;49m\u001b[39m\"\u001b[39;49m),\n\u001b[0;32m   1226\u001b[0m     storage_options\u001b[39m=\u001b[39;49m\u001b[39mself\u001b[39;49m\u001b[39m.\u001b[39;49moptions\u001b[39m.\u001b[39;49mget(\u001b[39m\"\u001b[39;49m\u001b[39mstorage_options\u001b[39;49m\u001b[39m\"\u001b[39;49m, \u001b[39mNone\u001b[39;49;00m),\n\u001b[0;32m   1227\u001b[0m )\n\u001b[0;32m   1228\u001b[0m \u001b[39massert\u001b[39;00m \u001b[39mself\u001b[39m\u001b[39m.\u001b[39mhandles \u001b[39mis\u001b[39;00m \u001b[39mnot\u001b[39;00m \u001b[39mNone\u001b[39;00m\n\u001b[0;32m   1229\u001b[0m f \u001b[39m=\u001b[39m \u001b[39mself\u001b[39m\u001b[39m.\u001b[39mhandles\u001b[39m.\u001b[39mhandle\n",
      "File \u001b[1;32mc:\\Users\\Terry\\AppData\\Local\\Programs\\Python\\Python310\\lib\\site-packages\\pandas\\io\\common.py:786\u001b[0m, in \u001b[0;36mget_handle\u001b[1;34m(path_or_buf, mode, encoding, compression, memory_map, is_text, errors, storage_options)\u001b[0m\n\u001b[0;32m    781\u001b[0m \u001b[39melif\u001b[39;00m \u001b[39misinstance\u001b[39m(handle, \u001b[39mstr\u001b[39m):\n\u001b[0;32m    782\u001b[0m     \u001b[39m# Check whether the filename is to be opened in binary mode.\u001b[39;00m\n\u001b[0;32m    783\u001b[0m     \u001b[39m# Binary mode does not support 'encoding' and 'newline'.\u001b[39;00m\n\u001b[0;32m    784\u001b[0m     \u001b[39mif\u001b[39;00m ioargs\u001b[39m.\u001b[39mencoding \u001b[39mand\u001b[39;00m \u001b[39m\"\u001b[39m\u001b[39mb\u001b[39m\u001b[39m\"\u001b[39m \u001b[39mnot\u001b[39;00m \u001b[39min\u001b[39;00m ioargs\u001b[39m.\u001b[39mmode:\n\u001b[0;32m    785\u001b[0m         \u001b[39m# Encoding\u001b[39;00m\n\u001b[1;32m--> 786\u001b[0m         handle \u001b[39m=\u001b[39m \u001b[39mopen\u001b[39;49m(\n\u001b[0;32m    787\u001b[0m             handle,\n\u001b[0;32m    788\u001b[0m             ioargs\u001b[39m.\u001b[39;49mmode,\n\u001b[0;32m    789\u001b[0m             encoding\u001b[39m=\u001b[39;49mioargs\u001b[39m.\u001b[39;49mencoding,\n\u001b[0;32m    790\u001b[0m             errors\u001b[39m=\u001b[39;49merrors,\n\u001b[0;32m    791\u001b[0m             newline\u001b[39m=\u001b[39;49m\u001b[39m\"\u001b[39;49m\u001b[39m\"\u001b[39;49m,\n\u001b[0;32m    792\u001b[0m         )\n\u001b[0;32m    793\u001b[0m     \u001b[39melse\u001b[39;00m:\n\u001b[0;32m    794\u001b[0m         \u001b[39m# Binary mode\u001b[39;00m\n\u001b[0;32m    795\u001b[0m         handle \u001b[39m=\u001b[39m \u001b[39mopen\u001b[39m(handle, ioargs\u001b[39m.\u001b[39mmode)\n",
      "\u001b[1;31mFileNotFoundError\u001b[0m: [Errno 2] No such file or directory: 'y_test.csv'"
     ]
    }
   ],
   "source": [
    "import pandas as pd\n",
    "from sklearn.metrics import accuracy_score\n",
    "y_test = pd.read_csv('y_test.csv')['price_range'].values\n",
    "\n",
    "print('Test-set accuarcy score: ', accuracy_score(y_test, y_pred))"
   ]
  },
  {
   "cell_type": "code",
   "execution_count": null,
   "metadata": {},
   "outputs": [
    {
     "name": "stdout",
     "output_type": "stream",
     "text": [
      "*** We will check your result for Question 3 manually *** (5 points)\n",
      "*** We will check your result for Question 6 manually *** (20 points)\n",
      "Approximate score range: 45.0 ~ 70.0\n",
      "*** This score is only for reference ***\n"
     ]
    }
   ],
   "source": [
    "def discrete_checker(score, thres, clf, name, x_train, y_train, x_test, y_test):\n",
    "    clf.fit(x_train, y_train)\n",
    "    y_pred = clf.predict(x_test)\n",
    "    if accuracy_score(y_test, y_pred) - thres >= 0:\n",
    "        return score\n",
    "    else:\n",
    "        print(f\"{name} failed\")\n",
    "        return 0\n",
    "\n",
    "\n",
    "def patient_checker(score, thres, CLS, kwargs, name,\n",
    "                    x_train, y_train, x_test, y_test, patient=10):\n",
    "    while patient > 0:\n",
    "        patient -= 1\n",
    "        clf = CLS(**kwargs)\n",
    "        clf.fit(x_train, y_train)\n",
    "        y_pred = clf.predict(x_test)\n",
    "        if accuracy_score(y_test, y_pred) - thres >= 0:\n",
    "            return score\n",
    "    print(f\"{name} failed\")\n",
    "    print(\"Considering the randomness, we will check it manually\")\n",
    "    return 0\n",
    "\n",
    "\n",
    "def load_dataset():\n",
    "    file_url = \"http://storage.googleapis.com/download.tensorflow.org/data/abalone_train.csv\"\n",
    "    df = pd.read_csv(\n",
    "        file_url,\n",
    "        names=[\"Length\", \"Diameter\", \"Height\", \"Whole weight\", \"Shucked weight\",\n",
    "               \"Viscera weight\", \"Shell weight\", \"Age\"]\n",
    "    )\n",
    "\n",
    "    df['Target'] = (df[\"Age\"] > 15).astype(int)\n",
    "    df = df.drop(labels=[\"Age\"], axis=\"columns\")\n",
    "\n",
    "    train_idx = range(0, len(df), 10)\n",
    "    test_idx = range(1, len(df), 20)\n",
    "\n",
    "    train_df = df.iloc[train_idx]\n",
    "    test_df = df.iloc[test_idx]\n",
    "\n",
    "    x_train = train_df.drop(labels=[\"Target\"], axis=\"columns\")\n",
    "    feature_names = x_train.columns.values\n",
    "    x_train = x_train.values\n",
    "    y_train = train_df['Target'].values\n",
    "\n",
    "    x_test = test_df.drop(labels=[\"Target\"], axis=\"columns\")\n",
    "    x_test = x_test.values\n",
    "    y_test = test_df['Target'].values\n",
    "    return x_train, y_train, x_test, y_test, feature_names\n",
    "\n",
    "\n",
    "score = 0\n",
    "\n",
    "data = np.array([1, 2])\n",
    "if abs(gini(data) - 0.5) < 1e-4:\n",
    "    score += 2.5\n",
    "else:\n",
    "    print(\"gini test failed\")\n",
    "\n",
    "if abs(entropy(data) - 1) < 1e-4:\n",
    "    score += 2.5\n",
    "else:\n",
    "    print(\"entropy test failed\")\n",
    "\n",
    "x_train, y_train, x_test, y_test, feature_names = load_dataset()\n",
    "\n",
    "score += discrete_checker(5, 0.9337,\n",
    "                          DecisionTree(criterion='gini', max_depth=3),\n",
    "                          \"DecisionTree(criterion='gini', max_depth=3)\",\n",
    "                          x_train, y_train, x_test, y_test\n",
    "                          )\n",
    "\n",
    "score += discrete_checker(2.5, 0.9036,\n",
    "                          DecisionTree(criterion='gini', max_depth=10),\n",
    "                          \"DecisionTree(criterion='gini', max_depth=10)\",\n",
    "                          x_train, y_train, x_test, y_test\n",
    "                          )\n",
    "\n",
    "score += discrete_checker(2.5, 0.9096,\n",
    "                          DecisionTree(criterion='entropy', max_depth=3),\n",
    "                          \"DecisionTree(criterion='entropy', max_depth=3)\",\n",
    "                          x_train, y_train, x_test, y_test\n",
    "                          )\n",
    "\n",
    "print(\"*** We will check your result for Question 3 manually *** (5 points)\")\n",
    "\n",
    "score += patient_checker(\n",
    "    7.5, 0.91, AdaBoost, {\"n_estimators\": 10},\n",
    "    \"AdaBoost(n_estimators=10)\",\n",
    "    x_train, y_train, x_test, y_test\n",
    ")\n",
    "\n",
    "score += patient_checker(\n",
    "    7.5, 0.87, AdaBoost, {\"n_estimators\": 100},\n",
    "    \"AdaBoost(n_estimators=100)\",\n",
    "    x_train, y_train, x_test, y_test\n",
    ")\n",
    "\n",
    "score += patient_checker(\n",
    "    5, 0.91, RandomForest,\n",
    "    {\"n_estimators\": 10, \"max_features\": np.sqrt(x_train.shape[1])},\n",
    "    \"RandomForest(n_estimators=10, max_features=sqrt(n_features))\",\n",
    "    x_train, y_train, x_test, y_test\n",
    ")\n",
    "\n",
    "score += patient_checker(\n",
    "    5, 0.91, RandomForest,\n",
    "    {\"n_estimators\": 100, \"max_features\": np.sqrt(x_train.shape[1])},\n",
    "    \"RandomForest(n_estimators=100, max_features=sqrt(n_features))\",\n",
    "    x_train, y_train, x_test, y_test\n",
    ")\n",
    "\n",
    "score += patient_checker(\n",
    "    5, 0.92, RandomForest,\n",
    "    {\"n_estimators\": 10, \"max_features\": x_train.shape[1]},\n",
    "    \"RandomForest(n_estimators=10, max_features=n_features)\",\n",
    "    x_train, y_train, x_test, y_test\n",
    ")\n",
    "\n",
    "print(\"*** We will check your result for Question 6 manually *** (20 points)\")\n",
    "print(\"Approximate score range:\", score, \"~\", score + 25)\n",
    "print(\"*** This score is only for reference ***\")\n"
   ]
  },
  {
   "cell_type": "code",
   "execution_count": null,
   "metadata": {},
   "outputs": [],
   "source": []
  }
 ],
 "metadata": {
  "kernelspec": {
   "display_name": "Python 3.10.5 64-bit",
   "language": "python",
   "name": "python3"
  },
  "language_info": {
   "codemirror_mode": {
    "name": "ipython",
    "version": 3
   },
   "file_extension": ".py",
   "mimetype": "text/x-python",
   "name": "python",
   "nbconvert_exporter": "python",
   "pygments_lexer": "ipython3",
   "version": "3.10.5"
  },
  "vscode": {
   "interpreter": {
    "hash": "2cefb6477faab595c65c4416ff83d6c7b73571d0f54d603d29c372c95ba24cd5"
   }
  }
 },
 "nbformat": 4,
 "nbformat_minor": 4
}
